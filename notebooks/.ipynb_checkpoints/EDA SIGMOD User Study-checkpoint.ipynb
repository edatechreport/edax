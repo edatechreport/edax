{
 "cells": [
  {
   "cell_type": "code",
   "execution_count": 5,
   "metadata": {
    "execution": {
     "iopub.execute_input": "2020-10-06T05:02:59.747986Z",
     "iopub.status.busy": "2020-10-06T05:02:59.747747Z",
     "iopub.status.idle": "2020-10-06T05:02:59.752530Z",
     "shell.execute_reply": "2020-10-06T05:02:59.751364Z",
     "shell.execute_reply.started": "2020-10-06T05:02:59.747956Z"
    }
   },
   "outputs": [],
   "source": [
    "import altair as alt\n",
    "import pandas as pd\n",
    "import numpy as np\n",
    "from operator import itemgetter"
   ]
  },
  {
   "cell_type": "code",
   "execution_count": 6,
   "metadata": {
    "execution": {
     "iopub.execute_input": "2020-10-06T05:02:59.916885Z",
     "iopub.status.busy": "2020-10-06T05:02:59.916666Z",
     "iopub.status.idle": "2020-10-06T05:02:59.920938Z",
     "shell.execute_reply": "2020-10-06T05:02:59.919713Z",
     "shell.execute_reply.started": "2020-10-06T05:02:59.916858Z"
    }
   },
   "outputs": [],
   "source": [
    "PALATTE = [\"#bdb8ad\", \"#ece7e0\", \"#c6d4e1\", \"#44749d\"]"
   ]
  },
  {
   "cell_type": "code",
   "execution_count": 7,
   "metadata": {
    "execution": {
     "iopub.execute_input": "2020-10-06T05:03:00.359211Z",
     "iopub.status.busy": "2020-10-06T05:03:00.358995Z",
     "iopub.status.idle": "2020-10-06T05:03:00.386159Z",
     "shell.execute_reply": "2020-10-06T05:03:00.385285Z",
     "shell.execute_reply.started": "2020-10-06T05:03:00.359184Z"
    }
   },
   "outputs": [
    {
     "data": {
      "text/html": [
       "<div>\n",
       "<style scoped>\n",
       "    .dataframe tbody tr th:only-of-type {\n",
       "        vertical-align: middle;\n",
       "    }\n",
       "\n",
       "    .dataframe tbody tr th {\n",
       "        vertical-align: top;\n",
       "    }\n",
       "\n",
       "    .dataframe thead th {\n",
       "        text-align: right;\n",
       "    }\n",
       "</style>\n",
       "<table border=\"1\" class=\"dataframe\">\n",
       "  <thead>\n",
       "    <tr style=\"text-align: right;\">\n",
       "      <th></th>\n",
       "      <th>type</th>\n",
       "      <th>variable</th>\n",
       "      <th>value</th>\n",
       "      <th>Tool</th>\n",
       "    </tr>\n",
       "  </thead>\n",
       "  <tbody>\n",
       "    <tr>\n",
       "      <th>0</th>\n",
       "      <td>novice</td>\n",
       "      <td>correct_tool1</td>\n",
       "      <td>0.849412</td>\n",
       "      <td>EDAx</td>\n",
       "    </tr>\n",
       "    <tr>\n",
       "      <th>1</th>\n",
       "      <td>skilled</td>\n",
       "      <td>correct_tool1</td>\n",
       "      <td>0.811111</td>\n",
       "      <td>EDAx</td>\n",
       "    </tr>\n",
       "    <tr>\n",
       "      <th>2</th>\n",
       "      <td>novice</td>\n",
       "      <td>correct_tool2</td>\n",
       "      <td>0.420000</td>\n",
       "      <td>PP</td>\n",
       "    </tr>\n",
       "    <tr>\n",
       "      <th>3</th>\n",
       "      <td>skilled</td>\n",
       "      <td>correct_tool2</td>\n",
       "      <td>0.609091</td>\n",
       "      <td>PP</td>\n",
       "    </tr>\n",
       "  </tbody>\n",
       "</table>\n",
       "</div>"
      ],
      "text/plain": [
       "      type       variable     value  Tool\n",
       "0   novice  correct_tool1  0.849412  EDAx\n",
       "1  skilled  correct_tool1  0.811111  EDAx\n",
       "2   novice  correct_tool2  0.420000    PP\n",
       "3  skilled  correct_tool2  0.609091    PP"
      ]
     },
     "execution_count": 7,
     "metadata": {},
     "output_type": "execute_result"
    }
   ],
   "source": [
    "com = pd.read_csv(\"../benchmark/results/userstudy.csv\", sep=\"\\t\")\n",
    "com = com.rename({\"Unnamed: 0\": \"type\"}, axis=1)\n",
    "\n",
    "com[\"correct_tool1\"] = com[\"how many correct_tool1\"] / com[\"complete_tool1\"]\n",
    "com[\"correct_tool2\"] = com[\"how many correct_tool2\"] / com[\"complete_tool2\"]\n",
    "\n",
    "com = pd.melt(\n",
    "    com,\n",
    "    id_vars=[\"type\"],\n",
    "    value_vars=[\"correct_tool1\", \"correct_tool2\"],\n",
    ")\n",
    "com[\"Tool\"] = com[\"variable\"].str.split(\"_\").str[1]\n",
    "\n",
    "com[\"Tool\"] = com[\"Tool\"].apply({\"tool1\": \"EDAx\", \"tool2\": \"PP\"}.__getitem__)\n",
    "\n",
    "com[\"type\"] = com[\"type\"].apply({\"skill\": \"skilled\", \"entry\": \"novice\"}.__getitem__)\n",
    "com"
   ]
  },
  {
   "cell_type": "code",
   "execution_count": 8,
   "metadata": {
    "execution": {
     "iopub.execute_input": "2020-10-06T05:03:01.121750Z",
     "iopub.status.busy": "2020-10-06T05:03:01.121532Z",
     "iopub.status.idle": "2020-10-06T05:03:01.140650Z",
     "shell.execute_reply": "2020-10-06T05:03:01.139610Z",
     "shell.execute_reply.started": "2020-10-06T05:03:01.121723Z"
    }
   },
   "outputs": [
    {
     "data": {
      "text/html": [
       "\n",
       "<div id=\"altair-viz-c534441376ce41b693219f71d4cd6647\"></div>\n",
       "<script type=\"text/javascript\">\n",
       "  (function(spec, embedOpt){\n",
       "    let outputDiv = document.currentScript.previousElementSibling;\n",
       "    if (outputDiv.id !== \"altair-viz-c534441376ce41b693219f71d4cd6647\") {\n",
       "      outputDiv = document.getElementById(\"altair-viz-c534441376ce41b693219f71d4cd6647\");\n",
       "    }\n",
       "    const paths = {\n",
       "      \"vega\": \"https://cdn.jsdelivr.net/npm//vega@5?noext\",\n",
       "      \"vega-lib\": \"https://cdn.jsdelivr.net/npm//vega-lib?noext\",\n",
       "      \"vega-lite\": \"https://cdn.jsdelivr.net/npm//vega-lite@4.8.1?noext\",\n",
       "      \"vega-embed\": \"https://cdn.jsdelivr.net/npm//vega-embed@6?noext\",\n",
       "    };\n",
       "\n",
       "    function loadScript(lib) {\n",
       "      return new Promise(function(resolve, reject) {\n",
       "        var s = document.createElement('script');\n",
       "        s.src = paths[lib];\n",
       "        s.async = true;\n",
       "        s.onload = () => resolve(paths[lib]);\n",
       "        s.onerror = () => reject(`Error loading script: ${paths[lib]}`);\n",
       "        document.getElementsByTagName(\"head\")[0].appendChild(s);\n",
       "      });\n",
       "    }\n",
       "\n",
       "    function showError(err) {\n",
       "      outputDiv.innerHTML = `<div class=\"error\" style=\"color:red;\">${err}</div>`;\n",
       "      throw err;\n",
       "    }\n",
       "\n",
       "    function displayChart(vegaEmbed) {\n",
       "      vegaEmbed(outputDiv, spec, embedOpt)\n",
       "        .catch(err => showError(`Javascript Error: ${err.message}<br>This usually means there's a typo in your chart specification. See the javascript console for the full traceback.`));\n",
       "    }\n",
       "\n",
       "    if(typeof define === \"function\" && define.amd) {\n",
       "      requirejs.config({paths});\n",
       "      require([\"vega-embed\"], displayChart, err => showError(`Error loading script: ${err.message}`));\n",
       "    } else if (typeof vegaEmbed === \"function\") {\n",
       "      displayChart(vegaEmbed);\n",
       "    } else {\n",
       "      loadScript(\"vega\")\n",
       "        .then(() => loadScript(\"vega-lite\"))\n",
       "        .then(() => loadScript(\"vega-embed\"))\n",
       "        .catch(showError)\n",
       "        .then(() => displayChart(vegaEmbed));\n",
       "    }\n",
       "  })({\"config\": {\"view\": {\"continuousWidth\": 400, \"continuousHeight\": 300}}, \"data\": {\"name\": \"data-c9422f590ca23ce1ec666e89854e76ca\"}, \"facet\": {\"row\": {\"type\": \"nominal\", \"field\": \"Tool\", \"title\": null}}, \"spec\": {\"mark\": {\"type\": \"bar\", \"size\": 18}, \"encoding\": {\"color\": {\"type\": \"nominal\", \"field\": \"type\", \"legend\": null, \"scale\": {\"range\": [\"#ece7e0\", \"#44749d\"]}}, \"x\": {\"type\": \"quantitative\", \"field\": \"value\", \"title\": \"Relative Accuracy\"}, \"y\": {\"type\": \"nominal\", \"field\": \"type\", \"title\": \"\"}}}, \"$schema\": \"https://vega.github.io/schema/vega-lite/v4.8.1.json\", \"datasets\": {\"data-c9422f590ca23ce1ec666e89854e76ca\": [{\"type\": \"novice\", \"variable\": \"correct_tool1\", \"value\": 0.8494117647058823, \"Tool\": \"EDAx\"}, {\"type\": \"skilled\", \"variable\": \"correct_tool1\", \"value\": 0.8111111111111111, \"Tool\": \"EDAx\"}, {\"type\": \"novice\", \"variable\": \"correct_tool2\", \"value\": 0.42, \"Tool\": \"PP\"}, {\"type\": \"skilled\", \"variable\": \"correct_tool2\", \"value\": 0.6090909090909091, \"Tool\": \"PP\"}]}}, {\"mode\": \"vega-lite\"});\n",
       "</script>"
      ],
      "text/plain": [
       "alt.FacetChart(...)"
      ]
     },
     "execution_count": 8,
     "metadata": {},
     "output_type": "execute_result"
    }
   ],
   "source": [
    "scale = alt.Scale(range=[PALATTE[1], PALATTE[3]])\n",
    "alt.Chart(com).mark_bar(size=18).encode(\n",
    "    y=alt.Y(\"type\", title=\"\"),\n",
    "    x=alt.X(\"value\", title=\"Relative Accuracy\"),\n",
    "    color=alt.Color(\"type\", legend=None, scale=scale),\n",
    ").facet(row=alt.Row(\"Tool\", title=None))"
   ]
  },
  {
   "cell_type": "code",
   "execution_count": null,
   "metadata": {},
   "outputs": [],
   "source": []
  }
 ],
 "metadata": {
  "kernelspec": {
   "display_name": "Python 3",
   "language": "python",
   "name": "python3"
  },
  "language_info": {
   "codemirror_mode": {
    "name": "ipython",
    "version": 3
   },
   "file_extension": ".py",
   "mimetype": "text/x-python",
   "name": "python",
   "nbconvert_exporter": "python",
   "pygments_lexer": "ipython3",
   "version": "3.8.4"
  }
 },
 "nbformat": 4,
 "nbformat_minor": 4
}
