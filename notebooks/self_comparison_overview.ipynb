{
 "cells": [
  {
   "cell_type": "code",
   "execution_count": 1,
   "metadata": {
    "execution": {
     "iopub.execute_input": "2020-10-06T05:03:15.527205Z",
     "iopub.status.busy": "2020-10-06T05:03:15.526902Z",
     "iopub.status.idle": "2020-10-06T05:03:15.960058Z",
     "shell.execute_reply": "2020-10-06T05:03:15.959074Z",
     "shell.execute_reply.started": "2020-10-06T05:03:15.527112Z"
    }
   },
   "outputs": [],
   "source": [
    "import pandas as pd\n",
    "import numpy as np\n",
    "import altair as alt"
   ]
  },
  {
   "cell_type": "code",
   "execution_count": 2,
   "metadata": {
    "execution": {
     "iopub.execute_input": "2020-10-06T05:03:16.691856Z",
     "iopub.status.busy": "2020-10-06T05:03:16.691624Z",
     "iopub.status.idle": "2020-10-06T05:03:16.696122Z",
     "shell.execute_reply": "2020-10-06T05:03:16.695233Z",
     "shell.execute_reply.started": "2020-10-06T05:03:16.691828Z"
    }
   },
   "outputs": [],
   "source": [
    "PALETTE = [\"#bdb8ad\", \"#ece7e0\", \"#c6d4e1\", \"#44749d\"]"
   ]
  },
  {
   "cell_type": "code",
   "execution_count": 3,
   "metadata": {
    "execution": {
     "iopub.execute_input": "2020-10-06T05:03:19.103530Z",
     "iopub.status.busy": "2020-10-06T05:03:19.103303Z",
     "iopub.status.idle": "2020-10-06T05:03:19.109519Z",
     "shell.execute_reply": "2020-10-06T05:03:19.108485Z",
     "shell.execute_reply.started": "2020-10-06T05:03:19.103502Z"
    }
   },
   "outputs": [],
   "source": [
    "dataset_map = {\n",
    "    \"automobile\": \"automobile\",\n",
    "    \"titanic\": \"titanic\",\n",
    "    \"top_women_chess_players\": \"women\",\n",
    "    \"suicide\": \"suicide\",\n",
    "    \"chess\": \"chess\",\n",
    "    \"adult\": \"adult\",\n",
    "    \"asia_conflicts\": \"conflicts\",\n",
    "    \"rain_australia\": \"rain\",\n",
    "    \"hotel_bookings\": \"hotel\",\n",
    "    \"diamonds\": \"diamonds\",\n",
    "    \"basketball\": \"basketball\",\n",
    "    \"rain_australia\": \"rain\",\n",
    "    \"heart\": \"heart\",\n",
    "    \"diabetes\": \"diabetes\",\n",
    "    \"default\": \"credit\",\n",
    "    \"solar\": \"solar\",\n",
    "}\n",
    "\n",
    "dataset_order = [\n",
    "    \"heart\",\n",
    "    \"diabetes\",\n",
    "    \"automobile\",\n",
    "    \"titanic\",\n",
    "    \"women\",\n",
    "    \"credit\",\n",
    "    \"solar\",\n",
    "    \"suicide\",\n",
    "    \"diamonds\",\n",
    "    \"chess\",\n",
    "    \"adult\",\n",
    "    \"basketball\",\n",
    "    \"conflicts\",\n",
    "    \"rain\",\n",
    "    \"hotel\",\n",
    "]"
   ]
  },
  {
   "cell_type": "code",
   "execution_count": 5,
   "metadata": {
    "execution": {
     "iopub.execute_input": "2020-10-06T05:04:30.764247Z",
     "iopub.status.busy": "2020-10-06T05:04:30.763904Z",
     "iopub.status.idle": "2020-10-06T05:04:30.833701Z",
     "shell.execute_reply": "2020-10-06T05:04:30.832893Z",
     "shell.execute_reply.started": "2020-10-06T05:04:30.764215Z"
    }
   },
   "outputs": [
    {
     "name": "stderr",
     "output_type": "stream",
     "text": [
      "<ipython-input-5-90629e17feae>:12: SettingWithCopyWarning: \n",
      "A value is trying to be set on a copy of a slice from a DataFrame.\n",
      "Try using .loc[row_indexer,col_indexer] = value instead\n",
      "\n",
      "See the caveats in the documentation: https://pandas.pydata.org/pandas-docs/stable/user_guide/indexing.html#returning-a-view-versus-a-copy\n",
      "  df[\"plot\"] = df_plot[\"elapsed\"]\n",
      "<ipython-input-5-90629e17feae>:13: SettingWithCopyWarning: \n",
      "A value is trying to be set on a copy of a slice from a DataFrame.\n",
      "Try using .loc[row_indexer,col_indexer] = value instead\n",
      "\n",
      "See the caveats in the documentation: https://pandas.pydata.org/pandas-docs/stable/user_guide/indexing.html#returning-a-view-versus-a-copy\n",
      "  df[\"plot_correlation\"] = df_plot_corr[\"elapsed\"]\n",
      "<ipython-input-5-90629e17feae>:14: SettingWithCopyWarning: \n",
      "A value is trying to be set on a copy of a slice from a DataFrame.\n",
      "Try using .loc[row_indexer,col_indexer] = value instead\n",
      "\n",
      "See the caveats in the documentation: https://pandas.pydata.org/pandas-docs/stable/user_guide/indexing.html#returning-a-view-versus-a-copy\n",
      "  df[\"plot_missing\"] = df_plot_miss[\"elapsed\"]\n"
     ]
    }
   ],
   "source": [
    "# read data\n",
    "df_plot = pd.read_json(\"../benchmark/results/plot.json\", lines=True)\n",
    "df_plot_corr = pd.read_json(\n",
    "    \"../benchmark/results/plot_correlation.json\", lines=True\n",
    ")\n",
    "df_plot_miss = pd.read_json(\n",
    "    \"../benchmark/results/plot_missing.json\", lines=True\n",
    ")\n",
    "\n",
    "# collect run times in one dataset\n",
    "df = df_plot[[\"dataset\", \"mem_size\"]]\n",
    "df[\"plot\"] = df_plot[\"elapsed\"]\n",
    "df[\"plot_correlation\"] = df_plot_corr[\"elapsed\"]\n",
    "df[\"plot_missing\"] = df_plot_miss[\"elapsed\"]\n",
    "\n",
    "# get list of datasets in increasing order of size for plotting\n",
    "df = df.sort_values(\"mem_size\")\n",
    "df = df.drop(columns=[\"mem_size\"])\n",
    "\n",
    "# shorten dataset names\n",
    "df[\"dataset\"] = df[\"dataset\"].apply(dataset_map.__getitem__)\n",
    "df = df.set_index(\"dataset\")\n",
    "df.columns = [\"plot(df)\", \"plot_correlation(df)\", \"plot_missing(df)\"]\n",
    "\n",
    "# create new dataset with proportion of total time for each function\n",
    "df2 = df.div(df.sum(axis=1), axis=0)\n",
    "\n",
    "# formatted size for tooltip\n",
    "df[\"size\"] = [\n",
    "    \"24KB\",\n",
    "    \"60KB\",\n",
    "    \"459KB\",\n",
    "    \"3MB\",\n",
    "    \"4MB\",\n",
    "    \"7MB\",\n",
    "    \"13MB\",\n",
    "    \"14MB\",\n",
    "    \"16MB\",\n",
    "    \"231MB\",\n",
    "    \"383MB\",\n",
    "    \"400MB\",\n",
    "    \"1GB\",\n",
    "    \"1.1GB\",\n",
    "    \"4.5GB\",\n",
    "]\n",
    "\n",
    "# wrangle data into columns \"dataset\", \"size\", \"function\", and \"time\"\n",
    "df = df.reset_index()\n",
    "df = pd.melt(\n",
    "    df,\n",
    "    id_vars=[\"dataset\", \"size\"],\n",
    "    value_vars=[\"plot(df)\", \"plot_correlation(df)\", \"plot_missing(df)\"],\n",
    ")\n",
    "df2 = df2.reset_index()\n",
    "df2 = pd.melt(\n",
    "    df2,\n",
    "    id_vars=[\"dataset\"],\n",
    "    value_vars=[\"plot(df)\", \"plot_correlation(df)\", \"plot_missing(df)\"],\n",
    ")\n",
    "\n",
    "# add percent ot total time to the final df\n",
    "df[\"pct\"] = df2[\"value\"]\n",
    "df.columns = [\"dataset\", \"size\", \"function\", \"time\", \"pct\"]\n",
    "df = df.join(df.groupby(\"dataset\").time.sum(), on=\"dataset\", rsuffix=\"_sum\")\n",
    "df[\"dataset++\"] = df[\"dataset\"] + df[\"time_sum\"].apply(lambda n: f\" ({n:.1f}s)\")\n",
    "df[\"sort_order\"] = df[\"dataset\"].apply(dataset_order.index)\n",
    "df = df.sort_values(\"sort_order\")"
   ]
  },
  {
   "cell_type": "code",
   "execution_count": 6,
   "metadata": {
    "execution": {
     "iopub.execute_input": "2020-10-06T05:04:33.445513Z",
     "iopub.status.busy": "2020-10-06T05:04:33.445272Z",
     "iopub.status.idle": "2020-10-06T05:04:33.490759Z",
     "shell.execute_reply": "2020-10-06T05:04:33.489970Z",
     "shell.execute_reply.started": "2020-10-06T05:04:33.445484Z"
    }
   },
   "outputs": [
    {
     "data": {
      "text/html": [
       "\n",
       "<div id=\"altair-viz-b9c50bf0bac140eda767bef1d9f6979e\"></div>\n",
       "<script type=\"text/javascript\">\n",
       "  (function(spec, embedOpt){\n",
       "    let outputDiv = document.currentScript.previousElementSibling;\n",
       "    if (outputDiv.id !== \"altair-viz-b9c50bf0bac140eda767bef1d9f6979e\") {\n",
       "      outputDiv = document.getElementById(\"altair-viz-b9c50bf0bac140eda767bef1d9f6979e\");\n",
       "    }\n",
       "    const paths = {\n",
       "      \"vega\": \"https://cdn.jsdelivr.net/npm//vega@5?noext\",\n",
       "      \"vega-lib\": \"https://cdn.jsdelivr.net/npm//vega-lib?noext\",\n",
       "      \"vega-lite\": \"https://cdn.jsdelivr.net/npm//vega-lite@4.8.1?noext\",\n",
       "      \"vega-embed\": \"https://cdn.jsdelivr.net/npm//vega-embed@6?noext\",\n",
       "    };\n",
       "\n",
       "    function loadScript(lib) {\n",
       "      return new Promise(function(resolve, reject) {\n",
       "        var s = document.createElement('script');\n",
       "        s.src = paths[lib];\n",
       "        s.async = true;\n",
       "        s.onload = () => resolve(paths[lib]);\n",
       "        s.onerror = () => reject(`Error loading script: ${paths[lib]}`);\n",
       "        document.getElementsByTagName(\"head\")[0].appendChild(s);\n",
       "      });\n",
       "    }\n",
       "\n",
       "    function showError(err) {\n",
       "      outputDiv.innerHTML = `<div class=\"error\" style=\"color:red;\">${err}</div>`;\n",
       "      throw err;\n",
       "    }\n",
       "\n",
       "    function displayChart(vegaEmbed) {\n",
       "      vegaEmbed(outputDiv, spec, embedOpt)\n",
       "        .catch(err => showError(`Javascript Error: ${err.message}<br>This usually means there's a typo in your chart specification. See the javascript console for the full traceback.`));\n",
       "    }\n",
       "\n",
       "    if(typeof define === \"function\" && define.amd) {\n",
       "      requirejs.config({paths});\n",
       "      require([\"vega-embed\"], displayChart, err => showError(`Error loading script: ${err.message}`));\n",
       "    } else if (typeof vegaEmbed === \"function\") {\n",
       "      displayChart(vegaEmbed);\n",
       "    } else {\n",
       "      loadScript(\"vega\")\n",
       "        .then(() => loadScript(\"vega-lite\"))\n",
       "        .then(() => loadScript(\"vega-embed\"))\n",
       "        .catch(showError)\n",
       "        .then(() => displayChart(vegaEmbed));\n",
       "    }\n",
       "  })({\"config\": {\"view\": {\"continuousWidth\": 400, \"continuousHeight\": 300}, \"axis\": {\"labelFontSize\": 16, \"titleFontSize\": 12}}, \"data\": {\"name\": \"data-61df017bea5e6ede0e9bb7bd80c03417\"}, \"mark\": \"bar\", \"encoding\": {\"color\": {\"type\": \"nominal\", \"field\": \"function\", \"legend\": {\"labelFontSize\": 16, \"titleFontSize\": 12}, \"scale\": {\"range\": [\"#bdb8ad\", \"#ece7e0\", \"#c6d4e1\", \"#44749d\"]}, \"title\": \"EDA Task\"}, \"order\": {\"type\": \"nominal\", \"field\": \"function\", \"sort\": \"ascending\"}, \"tooltip\": [{\"type\": \"quantitative\", \"field\": \"pct\", \"format\": \".2f\", \"title\": \"percent\"}, {\"type\": \"quantitative\", \"field\": \"time\", \"format\": \".2f\", \"title\": \"runtime\"}, {\"type\": \"ordinal\", \"field\": \"size\", \"title\": \"memory\"}, {\"type\": \"ordinal\", \"field\": \"dataset\", \"title\": \"dataset\"}], \"x\": {\"type\": \"nominal\", \"field\": \"dataset++\", \"sort\": [\"heart (1.8s)\", \"diabetes (1.3s)\", \"automobile (2.7s)\", \"titanic (1.5s)\", \"women (1.5s)\", \"credit (5.6s)\", \"solar (2.1s)\", \"suicide (2.0s)\", \"diamonds (2.3s)\", \"chess (3.1s)\", \"adult (2.5s)\", \"basketball (8.1s)\", \"conflicts (5.5s)\", \"rain (10.1s)\", \"hotel (10.2s)\"], \"title\": \"Dataset (Total Time)\"}, \"y\": {\"type\": \"quantitative\", \"axis\": {\"format\": \"%\", \"titleFontSize\": 18}, \"field\": \"pct\", \"scale\": {\"domain\": [0, 1]}, \"title\": \"Percent of total time\"}}, \"height\": 150, \"width\": 400, \"$schema\": \"https://vega.github.io/schema/vega-lite/v4.8.1.json\", \"datasets\": {\"data-61df017bea5e6ede0e9bb7bd80c03417\": [{\"dataset\": \"heart\", \"size\": \"24KB\", \"function\": \"plot(df)\", \"time\": 1.219014883041381, \"pct\": 0.6931314774521964, \"time_sum\": 1.75870656967163, \"dataset++\": \"heart (1.8s)\", \"sort_order\": 0}, {\"dataset\": \"heart\", \"size\": \"24KB\", \"function\": \"plot_correlation(df)\", \"time\": 0.255293607711792, \"pct\": 0.14515986470640077, \"time_sum\": 1.75870656967163, \"dataset++\": \"heart (1.8s)\", \"sort_order\": 0}, {\"dataset\": \"heart\", \"size\": \"24KB\", \"function\": \"plot_missing(df)\", \"time\": 0.28439807891845703, \"pct\": 0.1617086578414029, \"time_sum\": 1.75870656967163, \"dataset++\": \"heart (1.8s)\", \"sort_order\": 0}, {\"dataset\": \"diabetes\", \"size\": \"60KB\", \"function\": \"plot(df)\", \"time\": 0.7797994613647461, \"pct\": 0.6209909757676675, \"time_sum\": 1.2557339668273921, \"dataset++\": \"diabetes (1.3s)\", \"sort_order\": 1}, {\"dataset\": \"diabetes\", \"size\": \"60KB\", \"function\": \"plot_correlation(df)\", \"time\": 0.210910320281982, \"pct\": 0.16795780464141322, \"time_sum\": 1.2557339668273921, \"dataset++\": \"diabetes (1.3s)\", \"sort_order\": 1}, {\"dataset\": \"diabetes\", \"size\": \"60KB\", \"function\": \"plot_missing(df)\", \"time\": 0.265024185180664, \"pct\": 0.21105121959091921, \"time_sum\": 1.2557339668273921, \"dataset++\": \"diabetes (1.3s)\", \"sort_order\": 1}, {\"dataset\": \"automobile\", \"size\": \"459KB\", \"function\": \"plot(df)\", \"time\": 2.150100708007812, \"pct\": 0.7930081576769837, \"time_sum\": 2.711322307586668, \"dataset++\": \"automobile (2.7s)\", \"sort_order\": 2}, {\"dataset\": \"automobile\", \"size\": \"459KB\", \"function\": \"plot_correlation(df)\", \"time\": 0.22706604003906203, \"pct\": 0.08374734328106206, \"time_sum\": 2.711322307586668, \"dataset++\": \"automobile (2.7s)\", \"sort_order\": 2}, {\"dataset\": \"automobile\", \"size\": \"459KB\", \"function\": \"plot_missing(df)\", \"time\": 0.33415555953979403, \"pct\": 0.12324449904195414, \"time_sum\": 2.711322307586668, \"dataset++\": \"automobile (2.7s)\", \"sort_order\": 2}, {\"dataset\": \"titanic\", \"size\": \"3MB\", \"function\": \"plot(df)\", \"time\": 0.9845397472381591, \"pct\": 0.6648270707970992, \"time_sum\": 1.480895996093748, \"dataset++\": \"titanic (1.5s)\", \"sort_order\": 3}, {\"dataset\": \"titanic\", \"size\": \"3MB\", \"function\": \"plot_correlation(df)\", \"time\": 0.2036554813385, \"pct\": 0.13752179888101176, \"time_sum\": 1.480895996093748, \"dataset++\": \"titanic (1.5s)\", \"sort_order\": 3}, {\"dataset\": \"titanic\", \"size\": \"3MB\", \"function\": \"plot_missing(df)\", \"time\": 0.292700767517089, \"pct\": 0.197651130321889, \"time_sum\": 1.480895996093748, \"dataset++\": \"titanic (1.5s)\", \"sort_order\": 3}, {\"dataset\": \"women\", \"size\": \"4MB\", \"function\": \"plot_correlation(df)\", \"time\": 0.23048472404479903, \"pct\": 0.15258634568579327, \"time_sum\": 1.5105199813842751, \"dataset++\": \"women (1.5s)\", \"sort_order\": 4}, {\"dataset\": \"women\", \"size\": \"4MB\", \"function\": \"plot_missing(df)\", \"time\": 0.395054101943969, \"pct\": 0.26153517120768727, \"time_sum\": 1.5105199813842751, \"dataset++\": \"women (1.5s)\", \"sort_order\": 4}, {\"dataset\": \"women\", \"size\": \"4MB\", \"function\": \"plot(df)\", \"time\": 0.884981155395507, \"pct\": 0.5858784831065194, \"time_sum\": 1.5105199813842751, \"dataset++\": \"women (1.5s)\", \"sort_order\": 4}, {\"dataset\": \"credit\", \"size\": \"7MB\", \"function\": \"plot_missing(df)\", \"time\": 0.541322469711303, \"pct\": 0.09751127267042564, \"time_sum\": 5.551383495330809, \"dataset++\": \"credit (5.6s)\", \"sort_order\": 5}, {\"dataset\": \"credit\", \"size\": \"7MB\", \"function\": \"plot(df)\", \"time\": 2.713152885437011, \"pct\": 0.4887345447705074, \"time_sum\": 5.551383495330809, \"dataset++\": \"credit (5.6s)\", \"sort_order\": 5}, {\"dataset\": \"credit\", \"size\": \"7MB\", \"function\": \"plot_correlation(df)\", \"time\": 2.296908140182495, \"pct\": 0.41375418255906704, \"time_sum\": 5.551383495330809, \"dataset++\": \"credit (5.6s)\", \"sort_order\": 5}, {\"dataset\": \"solar\", \"size\": \"13MB\", \"function\": \"plot_missing(df)\", \"time\": 0.47551798820495605, \"pct\": 0.22602451599128676, \"time_sum\": 2.10383367538452, \"dataset++\": \"solar (2.1s)\", \"sort_order\": 6}, {\"dataset\": \"solar\", \"size\": \"13MB\", \"function\": \"plot(df)\", \"time\": 1.211659431457519, \"pct\": 0.5759292883436057, \"time_sum\": 2.10383367538452, \"dataset++\": \"solar (2.1s)\", \"sort_order\": 6}, {\"dataset\": \"solar\", \"size\": \"13MB\", \"function\": \"plot_correlation(df)\", \"time\": 0.416656255722045, \"pct\": 0.19804619566510753, \"time_sum\": 2.10383367538452, \"dataset++\": \"solar (2.1s)\", \"sort_order\": 6}, {\"dataset\": \"suicide\", \"size\": \"14MB\", \"function\": \"plot_missing(df)\", \"time\": 0.44281053543090804, \"pct\": 0.2162504603502633, \"time_sum\": 2.047674417495726, \"dataset++\": \"suicide (2.0s)\", \"sort_order\": 7}, {\"dataset\": \"suicide\", \"size\": \"14MB\", \"function\": \"plot_correlation(df)\", \"time\": 0.335730791091918, \"pct\": 0.1639571155567356, \"time_sum\": 2.047674417495726, \"dataset++\": \"suicide (2.0s)\", \"sort_order\": 7}, {\"dataset\": \"suicide\", \"size\": \"14MB\", \"function\": \"plot(df)\", \"time\": 1.2691330909729, \"pct\": 0.6197924240930011, \"time_sum\": 2.047674417495726, \"dataset++\": \"suicide (2.0s)\", \"sort_order\": 7}, {\"dataset\": \"diamonds\", \"size\": \"16MB\", \"function\": \"plot_correlation(df)\", \"time\": 0.5915336608886711, \"pct\": 0.25471598451954863, \"time_sum\": 2.32232642173767, \"dataset++\": \"diamonds (2.3s)\", \"sort_order\": 8}, {\"dataset\": \"diamonds\", \"size\": \"16MB\", \"function\": \"plot_missing(df)\", \"time\": 0.48316860198974604, \"pct\": 0.20805369885436578, \"time_sum\": 2.32232642173767, \"dataset++\": \"diamonds (2.3s)\", \"sort_order\": 8}, {\"dataset\": \"diamonds\", \"size\": \"16MB\", \"function\": \"plot(df)\", \"time\": 1.247624158859253, \"pct\": 0.5372303166260857, \"time_sum\": 2.32232642173767, \"dataset++\": \"diamonds (2.3s)\", \"sort_order\": 8}, {\"dataset\": \"chess\", \"size\": \"231MB\", \"function\": \"plot_correlation(df)\", \"time\": 0.40965843200683505, \"pct\": 0.13377743312810045, \"time_sum\": 3.0622386932373034, \"dataset++\": \"chess (3.1s)\", \"sort_order\": 9}, {\"dataset\": \"chess\", \"size\": \"231MB\", \"function\": \"plot_missing(df)\", \"time\": 0.6679527759552001, \"pct\": 0.21812564037882404, \"time_sum\": 3.0622386932373034, \"dataset++\": \"chess (3.1s)\", \"sort_order\": 9}, {\"dataset\": \"chess\", \"size\": \"231MB\", \"function\": \"plot(df)\", \"time\": 1.984627485275268, \"pct\": 0.6480969264930755, \"time_sum\": 3.0622386932373034, \"dataset++\": \"chess (3.1s)\", \"sort_order\": 9}, {\"dataset\": \"adult\", \"size\": \"383MB\", \"function\": \"plot_correlation(df)\", \"time\": 0.34435129165649403, \"pct\": 0.13583144912873293, \"time_sum\": 2.535136699676512, \"dataset++\": \"adult (2.5s)\", \"sort_order\": 10}, {\"dataset\": \"adult\", \"size\": \"383MB\", \"function\": \"plot_missing(df)\", \"time\": 0.588561534881591, \"pct\": 0.2321616561965643, \"time_sum\": 2.535136699676512, \"dataset++\": \"adult (2.5s)\", \"sort_order\": 10}, {\"dataset\": \"adult\", \"size\": \"383MB\", \"function\": \"plot(df)\", \"time\": 1.602223873138427, \"pct\": 0.6320068946747028, \"time_sum\": 2.535136699676512, \"dataset++\": \"adult (2.5s)\", \"sort_order\": 10}, {\"dataset\": \"basketball\", \"size\": \"1GB\", \"function\": \"plot_missing(df)\", \"time\": 1.029902458190918, \"pct\": 0.1269673033014137, \"time_sum\": 8.11155652999878, \"dataset++\": \"basketball (8.1s)\", \"sort_order\": 11}, {\"dataset\": \"basketball\", \"size\": \"1GB\", \"function\": \"plot_correlation(df)\", \"time\": 2.890435218811035, \"pct\": 0.35633545893706176, \"time_sum\": 8.11155652999878, \"dataset++\": \"basketball (8.1s)\", \"sort_order\": 11}, {\"dataset\": \"basketball\", \"size\": \"1GB\", \"function\": \"plot(df)\", \"time\": 4.191218852996826, \"pct\": 0.5166972377615245, \"time_sum\": 8.11155652999878, \"dataset++\": \"basketball (8.1s)\", \"sort_order\": 11}, {\"dataset\": \"conflicts\", \"size\": \"400MB\", \"function\": \"plot_missing(df)\", \"time\": 1.161772012710571, \"pct\": 0.21109394169387202, \"time_sum\": 5.503578186035155, \"dataset++\": \"conflicts (5.5s)\", \"sort_order\": 12}, {\"dataset\": \"conflicts\", \"size\": \"400MB\", \"function\": \"plot(df)\", \"time\": 3.589782953262329, \"pct\": 0.6522634605920721, \"time_sum\": 5.503578186035155, \"dataset++\": \"conflicts (5.5s)\", \"sort_order\": 12}, {\"dataset\": \"conflicts\", \"size\": \"400MB\", \"function\": \"plot_correlation(df)\", \"time\": 0.7520232200622551, \"pct\": 0.13664259771405587, \"time_sum\": 5.503578186035155, \"dataset++\": \"conflicts (5.5s)\", \"sort_order\": 12}, {\"dataset\": \"rain\", \"size\": \"1.1GB\", \"function\": \"plot(df)\", \"time\": 3.971997737884521, \"pct\": 0.3918422657023761, \"time_sum\": 10.136726140975952, \"dataset++\": \"rain (10.1s)\", \"sort_order\": 13}, {\"dataset\": \"rain\", \"size\": \"1.1GB\", \"function\": \"plot_correlation(df)\", \"time\": 4.785108327865601, \"pct\": 0.4720565852640166, \"time_sum\": 10.136726140975952, \"dataset++\": \"rain (10.1s)\", \"sort_order\": 13}, {\"dataset\": \"rain\", \"size\": \"1.1GB\", \"function\": \"plot_missing(df)\", \"time\": 1.37962007522583, \"pct\": 0.1361011490336072, \"time_sum\": 10.136726140975952, \"dataset++\": \"rain (10.1s)\", \"sort_order\": 13}, {\"dataset\": \"hotel\", \"size\": \"4.5GB\", \"function\": \"plot(df)\", \"time\": 5.250698804855347, \"pct\": 0.512659983449085, \"time_sum\": 10.242068767547607, \"dataset++\": \"hotel (10.2s)\", \"sort_order\": 14}, {\"dataset\": \"hotel\", \"size\": \"4.5GB\", \"function\": \"plot_correlation(df)\", \"time\": 3.433094501495361, \"pct\": 0.33519541602505676, \"time_sum\": 10.242068767547607, \"dataset++\": \"hotel (10.2s)\", \"sort_order\": 14}, {\"dataset\": \"hotel\", \"size\": \"4.5GB\", \"function\": \"plot_missing(df)\", \"time\": 1.558275461196899, \"pct\": 0.15214460052585815, \"time_sum\": 10.242068767547607, \"dataset++\": \"hotel (10.2s)\", \"sort_order\": 14}]}}, {\"mode\": \"vega-lite\"});\n",
       "</script>"
      ],
      "text/plain": [
       "alt.Chart(...)"
      ]
     },
     "execution_count": 6,
     "metadata": {},
     "output_type": "execute_result"
    }
   ],
   "source": [
    "scale = alt.Scale(range=PALETTE)\n",
    "\n",
    "alt.Chart(df).mark_bar().encode(\n",
    "    x=alt.X(\"dataset++:N\", sort=df[\"dataset++\"].unique(), title=\"Dataset (Total Time)\"),\n",
    "    y=alt.Y(\n",
    "        \"pct:Q\",\n",
    "        title=\"Percent of total time\",\n",
    "        axis=alt.Axis(format=\"%\",titleFontSize=18),\n",
    "        scale=alt.Scale(domain=[0, 1]),\n",
    "    ),\n",
    "    color=alt.Color(\"function\", title=\"EDA Task\", scale=scale, legend=alt.Legend(labelFontSize=16, titleFontSize=12)),\n",
    "    order=alt.Order(\"function\", sort=\"ascending\"),\n",
    "    tooltip=[\n",
    "        alt.Tooltip(\"pct:Q\", title=\"percent\", format=\".2f\"),\n",
    "        alt.Tooltip(\"time:Q\", title=\"runtime\", format=\".2f\"),\n",
    "        alt.Tooltip(\"size:O\", title=\"memory\"),\n",
    "        alt.Tooltip(\"dataset:O\", title=\"dataset\"),\n",
    "    ],\n",
    ").properties(width=400, height=150).configure_axis(labelFontSize=16, titleFontSize=12)"
   ]
  }
 ],
 "metadata": {
  "kernelspec": {
   "display_name": "DataPrep",
   "language": "python",
   "name": "dataprep"
  },
  "language_info": {
   "codemirror_mode": {
    "name": "ipython",
    "version": 3
   },
   "file_extension": ".py",
   "mimetype": "text/x-python",
   "name": "python",
   "nbconvert_exporter": "python",
   "pygments_lexer": "ipython3",
   "version": "3.8.4"
  }
 },
 "nbformat": 4,
 "nbformat_minor": 4
}
