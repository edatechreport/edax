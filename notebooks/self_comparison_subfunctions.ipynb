{
 "cells": [
  {
   "cell_type": "code",
   "execution_count": 1,
   "metadata": {
    "execution": {
     "iopub.execute_input": "2020-10-06T05:05:18.972912Z",
     "iopub.status.busy": "2020-10-06T05:05:18.972465Z",
     "iopub.status.idle": "2020-10-06T05:05:19.400635Z",
     "shell.execute_reply": "2020-10-06T05:05:19.399741Z",
     "shell.execute_reply.started": "2020-10-06T05:05:18.972811Z"
    }
   },
   "outputs": [],
   "source": [
    "import pandas as pd\n",
    "import numpy as np\n",
    "import altair as alt"
   ]
  },
  {
   "cell_type": "code",
   "execution_count": 2,
   "metadata": {
    "execution": {
     "iopub.execute_input": "2020-10-06T05:05:19.402302Z",
     "iopub.status.busy": "2020-10-06T05:05:19.402089Z",
     "iopub.status.idle": "2020-10-06T05:05:19.406564Z",
     "shell.execute_reply": "2020-10-06T05:05:19.405639Z",
     "shell.execute_reply.started": "2020-10-06T05:05:19.402274Z"
    }
   },
   "outputs": [],
   "source": [
    "PALETTE = [\"#bdb8ad\", \"#ece7e0\", \"#c6d4e1\", \"#44749d\"]"
   ]
  },
  {
   "cell_type": "code",
   "execution_count": 3,
   "metadata": {
    "execution": {
     "iopub.execute_input": "2020-10-06T05:05:19.635893Z",
     "iopub.status.busy": "2020-10-06T05:05:19.635674Z",
     "iopub.status.idle": "2020-10-06T05:05:19.729663Z",
     "shell.execute_reply": "2020-10-06T05:05:19.728445Z",
     "shell.execute_reply.started": "2020-10-06T05:05:19.635867Z"
    }
   },
   "outputs": [],
   "source": [
    "# read data\n",
    "dfs = [pd.read_json(f\"../benchmark/results/plot{func}_{sub}.json\", lines=True) \n",
    "       for func in [\"\", \"_correlation\", \"_missing\"] \n",
    "       for sub in [\"x\", \"x_y\"]\n",
    "      ]\n",
    "# explode list of times \n",
    "dfs = [df.explode(\"times\").reset_index(drop=True) for df in dfs]"
   ]
  },
  {
   "cell_type": "code",
   "execution_count": 4,
   "metadata": {
    "execution": {
     "iopub.execute_input": "2020-10-06T05:05:20.471514Z",
     "iopub.status.busy": "2020-10-06T05:05:20.471292Z",
     "iopub.status.idle": "2020-10-06T05:05:20.482318Z",
     "shell.execute_reply": "2020-10-06T05:05:20.481249Z",
     "shell.execute_reply.started": "2020-10-06T05:05:20.471488Z"
    }
   },
   "outputs": [],
   "source": [
    "func_map = {\n",
    "    \"PlotX\": \"plot(df, col₁)\",\n",
    "    \"PlotXY\": \"plot(df, col₁, col₂)\",\n",
    "    \"PlotCorrelationX\": \"plot_correlation(df, col₁)\",\n",
    "    \"PlotCorrelationXY\": \"plot_correlation(df, col₁, col₂)\",\n",
    "    \"PlotMissingX\": \"plot_missing(df, col₁)\",\n",
    "    \"PlotMissingXY\": \"plot_missing(df, col₁, col₂)\",\n",
    "}\n",
    "plot_col_map = {\n",
    "    \"PlotX\": \"0\",\n",
    "    \"PlotXY\": \"1\",\n",
    "    \"PlotCorrelationX\": \"0\",\n",
    "    \"PlotCorrelationXY\": \"1\",\n",
    "    \"PlotMissingX\": \"0\",\n",
    "    \"PlotMissingXY\": \"1\",\n",
    "}\n",
    "threshs = [0.5, 1, 2, 5]\n",
    "def df_transform_cum(df):\n",
    "    # percent of tasks finishing within the threshold\n",
    "    pct = [(df[\"times\"] < thresh).sum() / len(df) * 100 for thresh in threshs]\n",
    "    cnt = [(df[\"times\"] < thresh).sum() for thresh in threshs]\n",
    "    res_df = pd.DataFrame({\"threshs\": threshs, \"pct\": pct, \"cnt\": cnt})\n",
    "    res_df[\"func\"] = func_map[df.loc[0, \"name\"]]\n",
    "    res_df[\"column\"] = plot_col_map[df.loc[0, \"name\"]]\n",
    "    return res_df\n",
    "\n",
    "def df_transform_non_cum(df):\n",
    "    # percent of tasks finishing within interval\n",
    "    ends = [0, 1, 5, 10, 30, 60]\n",
    "    pct = [df[\"times\"].between(*rng).sum() / len(df) * 100 for rng in zip(ends, ends[1:])]\n",
    "    cnt = [df[\"times\"].between(*rng).sum() for rng in zip(ends, ends[1:])]\n",
    "    res_df = pd.DataFrame({\"threshs\": threshs, \"pct\": pct, \"cnt\": cnt})\n",
    "    res_df[\"func\"] = func_map[df.loc[0, \"name\"]]\n",
    "    res_df[\"column\"] = plot_col_map[df.loc[0, \"name\"]]\n",
    "    return res_df"
   ]
  },
  {
   "cell_type": "code",
   "execution_count": 5,
   "metadata": {
    "execution": {
     "iopub.execute_input": "2020-10-06T05:05:21.051429Z",
     "iopub.status.busy": "2020-10-06T05:05:21.051217Z",
     "iopub.status.idle": "2020-10-06T05:05:21.088564Z",
     "shell.execute_reply": "2020-10-06T05:05:21.087451Z",
     "shell.execute_reply.started": "2020-10-06T05:05:21.051403Z"
    }
   },
   "outputs": [],
   "source": [
    "dfs = [df_transform_cum(df) for df in dfs]\n",
    "# dfs = [df_transform_non_cum(df) for df in dfs]\n",
    "df = pd.concat(dfs, axis=0)\n",
    "df[\"pct\"] = np.round(df[\"pct\"], 2)"
   ]
  },
  {
   "cell_type": "code",
   "execution_count": 6,
   "metadata": {
    "execution": {
     "iopub.execute_input": "2020-10-06T05:05:21.413134Z",
     "iopub.status.busy": "2020-10-06T05:05:21.412923Z",
     "iopub.status.idle": "2020-10-06T05:05:21.420016Z",
     "shell.execute_reply": "2020-10-06T05:05:21.419008Z",
     "shell.execute_reply.started": "2020-10-06T05:05:21.413109Z"
    }
   },
   "outputs": [],
   "source": [
    "df[\"textpos\"] = df[\"pct\"]\n",
    "df[\"textpos\"] = df[\"textpos\"].apply(lambda x: 18 if x < 18 else x)\n",
    "df[\"textcolor\"] = df[\"threshs\"].apply(lambda x: \"black\" if x != 5 else \"white\")"
   ]
  },
  {
   "cell_type": "code",
   "execution_count": 7,
   "metadata": {
    "execution": {
     "iopub.execute_input": "2020-10-06T05:05:21.800258Z",
     "iopub.status.busy": "2020-10-06T05:05:21.800047Z",
     "iopub.status.idle": "2020-10-06T05:05:21.850548Z",
     "shell.execute_reply": "2020-10-06T05:05:21.849710Z",
     "shell.execute_reply.started": "2020-10-06T05:05:21.800233Z"
    }
   },
   "outputs": [
    {
     "data": {
      "text/html": [
       "\n",
       "<div id=\"altair-viz-8039ef50ebd44cd0856a0d0adc7cc1cd\"></div>\n",
       "<script type=\"text/javascript\">\n",
       "  (function(spec, embedOpt){\n",
       "    let outputDiv = document.currentScript.previousElementSibling;\n",
       "    if (outputDiv.id !== \"altair-viz-8039ef50ebd44cd0856a0d0adc7cc1cd\") {\n",
       "      outputDiv = document.getElementById(\"altair-viz-8039ef50ebd44cd0856a0d0adc7cc1cd\");\n",
       "    }\n",
       "    const paths = {\n",
       "      \"vega\": \"https://cdn.jsdelivr.net/npm//vega@5?noext\",\n",
       "      \"vega-lib\": \"https://cdn.jsdelivr.net/npm//vega-lib?noext\",\n",
       "      \"vega-lite\": \"https://cdn.jsdelivr.net/npm//vega-lite@4.8.1?noext\",\n",
       "      \"vega-embed\": \"https://cdn.jsdelivr.net/npm//vega-embed@6?noext\",\n",
       "    };\n",
       "\n",
       "    function loadScript(lib) {\n",
       "      return new Promise(function(resolve, reject) {\n",
       "        var s = document.createElement('script');\n",
       "        s.src = paths[lib];\n",
       "        s.async = true;\n",
       "        s.onload = () => resolve(paths[lib]);\n",
       "        s.onerror = () => reject(`Error loading script: ${paths[lib]}`);\n",
       "        document.getElementsByTagName(\"head\")[0].appendChild(s);\n",
       "      });\n",
       "    }\n",
       "\n",
       "    function showError(err) {\n",
       "      outputDiv.innerHTML = `<div class=\"error\" style=\"color:red;\">${err}</div>`;\n",
       "      throw err;\n",
       "    }\n",
       "\n",
       "    function displayChart(vegaEmbed) {\n",
       "      vegaEmbed(outputDiv, spec, embedOpt)\n",
       "        .catch(err => showError(`Javascript Error: ${err.message}<br>This usually means there's a typo in your chart specification. See the javascript console for the full traceback.`));\n",
       "    }\n",
       "\n",
       "    if(typeof define === \"function\" && define.amd) {\n",
       "      requirejs.config({paths});\n",
       "      require([\"vega-embed\"], displayChart, err => showError(`Error loading script: ${err.message}`));\n",
       "    } else if (typeof vegaEmbed === \"function\") {\n",
       "      displayChart(vegaEmbed);\n",
       "    } else {\n",
       "      loadScript(\"vega\")\n",
       "        .then(() => loadScript(\"vega-lite\"))\n",
       "        .then(() => loadScript(\"vega-embed\"))\n",
       "        .catch(showError)\n",
       "        .then(() => displayChart(vegaEmbed));\n",
       "    }\n",
       "  })({\"config\": {\"view\": {\"continuousWidth\": 400, \"continuousHeight\": 300}, \"axis\": {\"labelFontSize\": 16, \"titleFontSize\": 12}}, \"data\": {\"name\": \"data-2782b09b6a5cb41ae0738f6bac4397a9\"}, \"facet\": {\"type\": \"nominal\", \"field\": \"func\", \"header\": {\"labelFontSize\": 18}, \"title\": \"\"}, \"spec\": {\"layer\": [{\"mark\": \"bar\", \"encoding\": {\"color\": {\"type\": \"nominal\", \"field\": \"threshs\", \"legend\": null, \"scale\": {\"domain\": [0.5, 1.0, 2.0, 5, \"white\", \"black\"], \"range\": [\"#bdb8ad\", \"#ece7e0\", \"#c6d4e1\", \"#44749d\", \"white\", \"black\"]}, \"sort\": [0.5, 1, 2, 5], \"title\": \"Intervals\"}, \"tooltip\": [{\"type\": \"quantitative\", \"field\": \"pct\", \"title\": \"percent\"}, {\"type\": \"quantitative\", \"field\": \"cnt\", \"title\": \"count\"}, {\"type\": \"ordinal\", \"field\": \"threshs\", \"title\": \"interval\"}], \"x\": {\"type\": \"quantitative\", \"field\": \"pct\", \"title\": \"Percent of tasks completed\"}, \"y\": {\"type\": \"ordinal\", \"field\": \"threshs\", \"sort\": [0.5, 1, 2, 5], \"title\": \"Time Constraint (sec)\"}}}, {\"mark\": {\"type\": \"text\", \"align\": \"right\", \"dx\": -5, \"dy\": 1, \"fontSize\": 16}, \"encoding\": {\"color\": {\"type\": \"nominal\", \"field\": \"textcolor\", \"legend\": null, \"scale\": {\"domain\": [0.5, 1.0, 2.0, 5, \"white\", \"black\"], \"range\": [\"#bdb8ad\", \"#ece7e0\", \"#c6d4e1\", \"#44749d\", \"white\", \"black\"]}}, \"text\": {\"type\": \"nominal\", \"field\": \"label\"}, \"x\": {\"type\": \"quantitative\", \"field\": \"textpos\"}, \"y\": {\"type\": \"ordinal\", \"field\": \"threshs\", \"sort\": [0.5, 1, 2, 5], \"title\": \"\"}}, \"transform\": [{\"calculate\": \"datum.pct + \\\" %\\\"\", \"as\": \"label\"}]}]}, \"columns\": 2, \"$schema\": \"https://vega.github.io/schema/vega-lite/v4.8.1.json\", \"datasets\": {\"data-2782b09b6a5cb41ae0738f6bac4397a9\": [{\"threshs\": 0.5, \"pct\": 35.9, \"cnt\": 98, \"func\": \"plot(df, col\\u2081)\", \"column\": \"0\", \"textpos\": 35.9, \"textcolor\": \"black\"}, {\"threshs\": 1.0, \"pct\": 78.39, \"cnt\": 214, \"func\": \"plot(df, col\\u2081)\", \"column\": \"0\", \"textpos\": 78.39, \"textcolor\": \"black\"}, {\"threshs\": 2.0, \"pct\": 97.07, \"cnt\": 265, \"func\": \"plot(df, col\\u2081)\", \"column\": \"0\", \"textpos\": 97.07, \"textcolor\": \"black\"}, {\"threshs\": 5.0, \"pct\": 99.63, \"cnt\": 272, \"func\": \"plot(df, col\\u2081)\", \"column\": \"0\", \"textpos\": 99.63, \"textcolor\": \"white\"}, {\"threshs\": 0.5, \"pct\": 27.3, \"cnt\": 587, \"func\": \"plot(df, col\\u2081, col\\u2082)\", \"column\": \"1\", \"textpos\": 27.3, \"textcolor\": \"black\"}, {\"threshs\": 1.0, \"pct\": 86.84, \"cnt\": 1867, \"func\": \"plot(df, col\\u2081, col\\u2082)\", \"column\": \"1\", \"textpos\": 86.84, \"textcolor\": \"black\"}, {\"threshs\": 2.0, \"pct\": 100.0, \"cnt\": 2150, \"func\": \"plot(df, col\\u2081, col\\u2082)\", \"column\": \"1\", \"textpos\": 100.0, \"textcolor\": \"black\"}, {\"threshs\": 5.0, \"pct\": 100.0, \"cnt\": 2150, \"func\": \"plot(df, col\\u2081, col\\u2082)\", \"column\": \"1\", \"textpos\": 100.0, \"textcolor\": \"white\"}, {\"threshs\": 0.5, \"pct\": 41.28, \"cnt\": 71, \"func\": \"plot_correlation(df, col\\u2081)\", \"column\": \"0\", \"textpos\": 41.28, \"textcolor\": \"black\"}, {\"threshs\": 1.0, \"pct\": 64.53, \"cnt\": 111, \"func\": \"plot_correlation(df, col\\u2081)\", \"column\": \"0\", \"textpos\": 64.53, \"textcolor\": \"black\"}, {\"threshs\": 2.0, \"pct\": 100.0, \"cnt\": 172, \"func\": \"plot_correlation(df, col\\u2081)\", \"column\": \"0\", \"textpos\": 100.0, \"textcolor\": \"black\"}, {\"threshs\": 5.0, \"pct\": 100.0, \"cnt\": 172, \"func\": \"plot_correlation(df, col\\u2081)\", \"column\": \"0\", \"textpos\": 100.0, \"textcolor\": \"white\"}, {\"threshs\": 0.5, \"pct\": 46.97, \"cnt\": 558, \"func\": \"plot_correlation(df, col\\u2081, col\\u2082)\", \"column\": \"1\", \"textpos\": 46.97, \"textcolor\": \"black\"}, {\"threshs\": 1.0, \"pct\": 80.72, \"cnt\": 959, \"func\": \"plot_correlation(df, col\\u2081, col\\u2082)\", \"column\": \"1\", \"textpos\": 80.72, \"textcolor\": \"black\"}, {\"threshs\": 2.0, \"pct\": 100.0, \"cnt\": 1188, \"func\": \"plot_correlation(df, col\\u2081, col\\u2082)\", \"column\": \"1\", \"textpos\": 100.0, \"textcolor\": \"black\"}, {\"threshs\": 5.0, \"pct\": 100.0, \"cnt\": 1188, \"func\": \"plot_correlation(df, col\\u2081, col\\u2082)\", \"column\": \"1\", \"textpos\": 100.0, \"textcolor\": \"white\"}, {\"threshs\": 0.5, \"pct\": 3.3, \"cnt\": 9, \"func\": \"plot_missing(df, col\\u2081)\", \"column\": \"0\", \"textpos\": 18.0, \"textcolor\": \"black\"}, {\"threshs\": 1.0, \"pct\": 33.33, \"cnt\": 91, \"func\": \"plot_missing(df, col\\u2081)\", \"column\": \"0\", \"textpos\": 33.33, \"textcolor\": \"black\"}, {\"threshs\": 2.0, \"pct\": 62.27, \"cnt\": 170, \"func\": \"plot_missing(df, col\\u2081)\", \"column\": \"0\", \"textpos\": 62.27, \"textcolor\": \"black\"}, {\"threshs\": 5.0, \"pct\": 100.0, \"cnt\": 273, \"func\": \"plot_missing(df, col\\u2081)\", \"column\": \"0\", \"textpos\": 100.0, \"textcolor\": \"white\"}, {\"threshs\": 0.5, \"pct\": 54.09, \"cnt\": 1515, \"func\": \"plot_missing(df, col\\u2081, col\\u2082)\", \"column\": \"1\", \"textpos\": 54.09, \"textcolor\": \"black\"}, {\"threshs\": 1.0, \"pct\": 83.61, \"cnt\": 2342, \"func\": \"plot_missing(df, col\\u2081, col\\u2082)\", \"column\": \"1\", \"textpos\": 83.61, \"textcolor\": \"black\"}, {\"threshs\": 2.0, \"pct\": 100.0, \"cnt\": 2801, \"func\": \"plot_missing(df, col\\u2081, col\\u2082)\", \"column\": \"1\", \"textpos\": 100.0, \"textcolor\": \"black\"}, {\"threshs\": 5.0, \"pct\": 100.0, \"cnt\": 2801, \"func\": \"plot_missing(df, col\\u2081, col\\u2082)\", \"column\": \"1\", \"textpos\": 100.0, \"textcolor\": \"white\"}]}}, {\"mode\": \"vega-lite\"});\n",
       "</script>"
      ],
      "text/plain": [
       "alt.FacetChart(...)"
      ]
     },
     "execution_count": 7,
     "metadata": {},
     "output_type": "execute_result"
    }
   ],
   "source": [
    "base = alt.Chart(df)\n",
    "scale = alt.Scale(domain=[0.5, 1. , 2. , 5, \"white\", \"black\"], range=[*PALETTE, \"white\", \"black\"])\n",
    "(\n",
    "    base.mark_bar().encode(\n",
    "        y=alt.Y(\"threshs:O\", sort=threshs, title=\"Time Constraint (sec)\"),\n",
    "        x=alt.X(\"pct:Q\", title=\"Percent of tasks completed\"),\n",
    "        color=alt.Color(\n",
    "            \"threshs:N\",\n",
    "            sort=threshs,\n",
    "            title=\"Intervals\",\n",
    "            legend=None,\n",
    "            scale=scale\n",
    "        ),\n",
    "        #     column=alt.Column('column:N', title=\"Completed Tasks by Function\"),\n",
    "        tooltip=[\n",
    "            alt.Tooltip(\"pct:Q\", title=\"percent\"),\n",
    "            alt.Tooltip(\"cnt:Q\", title=\"count\"),\n",
    "            alt.Tooltip(\"threshs:O\", title=\"interval\"),\n",
    "        ],\n",
    "    )\n",
    "    + base.mark_text(align=\"right\", dy=1, dx=-5, fontSize=16)\n",
    "    .encode(\n",
    "        y=alt.Y(\"threshs:O\", sort=threshs, title=\"\"),\n",
    "        x=alt.X(\"textpos:Q\"),\n",
    "        text=alt.Text(\"label:N\"),\n",
    "        color=alt.Color(\n",
    "            \"textcolor:N\",\n",
    "            scale=scale,\n",
    "            legend=None,\n",
    "        ),\n",
    "    )\n",
    "    .transform_calculate(label='datum.pct + \" %\"')\n",
    ").facet(\n",
    "    alt.Facet(\"func:N\", title=\"\", header=alt.Header(labelFontSize=18)), columns=2\n",
    ").configure_axis(\n",
    "    labelFontSize=16, titleFontSize=12\n",
    ")"
   ]
  },
  {
   "cell_type": "code",
   "execution_count": null,
   "metadata": {},
   "outputs": [],
   "source": []
  }
 ],
 "metadata": {
  "kernelspec": {
   "display_name": "DataPrep",
   "language": "python",
   "name": "dataprep"
  },
  "language_info": {
   "codemirror_mode": {
    "name": "ipython",
    "version": 3
   },
   "file_extension": ".py",
   "mimetype": "text/x-python",
   "name": "python",
   "nbconvert_exporter": "python",
   "pygments_lexer": "ipython3",
   "version": "3.8.4"
  }
 },
 "nbformat": 4,
 "nbformat_minor": 4
}
